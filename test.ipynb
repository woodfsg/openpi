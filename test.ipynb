{
 "cells": [
  {
   "cell_type": "code",
   "execution_count": 2,
   "metadata": {},
   "outputs": [],
   "source": [
    "import torch\n"
   ]
  },
  {
   "cell_type": "code",
   "execution_count": null,
   "metadata": {},
   "outputs": [
    {
     "name": "stdout",
     "output_type": "stream",
     "text": [
      "tensor([[0.],\n",
      "        [0.]])\n",
      "tensor([[1., 1., 1., 1., 1.],\n",
      "        [1., 1., 1., 1., 1.],\n",
      "        [1., 1., 1., 1., 1.]])\n",
      "tensor([[0.4409, 0.8687]], dtype=torch.float16)\n",
      "torch.Size([2, 1])\n"
     ]
    }
   ],
   "source": [
    "x=torch.zeros(2,1)\n",
    "y=torch.ones(3,5)\n",
    "z=torch.rand(1,2,dtype=torch.float16)\n",
    "print(x)\n",
    "print(y)\n",
    "print(z)\n",
    "print(x.size()) #torch.Size([5, 3]) 元组"
   ]
  },
  {
   "cell_type": "code",
   "execution_count": null,
   "metadata": {},
   "outputs": [
    {
     "name": "stdout",
     "output_type": "stream",
     "text": [
      "tensor([[1.0410, 1.7331, 1.8225],\n",
      "        [1.8556, 1.8997, 1.1807],\n",
      "        [1.3584, 1.5901, 1.9043],\n",
      "        [1.3267, 1.0381, 1.8349],\n",
      "        [1.6937, 1.1482, 1.4644]])\n",
      "tensor([[1.0410, 1.7331, 1.8225],\n",
      "        [1.8556, 1.8997, 1.1807],\n",
      "        [1.3584, 1.5901, 1.9043],\n",
      "        [1.3267, 1.0381, 1.8349],\n",
      "        [1.6937, 1.1482, 1.4644]])\n"
     ]
    }
   ],
   "source": [
    "# 加法\n",
    "x=torch.rand(5,3)\n",
    "y=torch.ones_like(x)\n",
    "result=torch.empty(5,3)\n",
    "torch.add(x,y,out=result)\n",
    "print(result)\n",
    "# 与x+y等价\n",
    "print(x+y)"
   ]
  },
  {
   "cell_type": "code",
   "execution_count": 6,
   "metadata": {},
   "outputs": [
    {
     "name": "stdout",
     "output_type": "stream",
     "text": [
      "tensor([[1.0410, 1.7331, 1.8225],\n",
      "        [1.8556, 1.8997, 1.1807],\n",
      "        [1.3584, 1.5901, 1.9043],\n",
      "        [1.3267, 1.0381, 1.8349],\n",
      "        [1.6937, 1.1482, 1.4644]])\n"
     ]
    }
   ],
   "source": [
    "# 原地加法 add_\n",
    "y.add_(x)\n",
    "print(y)"
   ]
  },
  {
   "cell_type": "code",
   "execution_count": null,
   "metadata": {},
   "outputs": [],
   "source": [
    "#索引 \n",
    "# 用list即括号[]索引\n",
    "# 逗号隔开的代表一个维度，先行后列\n",
    "print(x[0,1])\n",
    "\n",
    "\n",
    "# 切片索引\n",
    "# 切片的基本语法是 start:stop:step，其中：\n",
    "# start：切片开始的索引（包含该位置）。\n",
    "# stop：切片结束的索引（不包含该位置）。\n",
    "# step：步长，指定在选择过程中跳过多少个元素。\n",
    "# step=1：默认情况下，步长为 1，表示连续选择元素。\n",
    "# step>1：表示在选择元素时会跳过一定数量的元素。\n",
    "# step<0：表示反向切片，从右往左选择元素。\n",
    "\n",
    "x = torch.tensor([1, 2, 3, 4, 5, 6])\n",
    "# 从第一个开始，每2步选择1个元素\n",
    "print(x[::2])  # 输出 tensor([1, 3, 5])\n",
    "# 从最后一个元素开始选择，直到第一个元素。\n",
    "print(x[::-1])  # 输出 tensor([6, 5, 4, 3, 2, 1])\n",
    "# 从索引 1 到索引 5，步长为 2 \n",
    "print(x[1:5:2])  # 输出 tensor([2, 4])\n"
   ]
  },
  {
   "cell_type": "code",
   "execution_count": null,
   "metadata": {},
   "outputs": [],
   "source": [
    "# 多维切片"
   ]
  }
 ],
 "metadata": {
  "kernelspec": {
   "display_name": ".venv",
   "language": "python",
   "name": "python3"
  },
  "language_info": {
   "codemirror_mode": {
    "name": "ipython",
    "version": 3
   },
   "file_extension": ".py",
   "mimetype": "text/x-python",
   "name": "python",
   "nbconvert_exporter": "python",
   "pygments_lexer": "ipython3",
   "version": "3.11.10"
  }
 },
 "nbformat": 4,
 "nbformat_minor": 2
}
