{
 "cells": [
  {
   "cell_type": "code",
   "execution_count": 2,
   "metadata": {},
   "outputs": [],
   "source": [
    "import dataclasses\n",
    "\n",
    "import jax\n",
    "\n",
    "from openpi.models import model as _model\n",
    "from openpi.policies import droid_policy\n",
    "from openpi.policies import policy_config as _policy_config\n",
    "from openpi.shared import download\n",
    "from openpi.training import config as _config\n",
    "from openpi.training import data_loader as _data_loader"
   ]
  },
  {
   "cell_type": "markdown",
   "metadata": {},
   "source": [
    "# Policy inference\n",
    "\n",
    "The following example shows how to create a policy from a checkpoint and run inference on a dummy example."
   ]
  },
  {
   "cell_type": "code",
   "execution_count": null,
   "metadata": {},
   "outputs": [
    {
     "name": "stdout",
     "output_type": "stream",
     "text": [
      "s3://openpi-assets/checkpoints/pi0_fast_libero\n"
     ]
    },
    {
     "data": {
      "application/vnd.jupyter.widget-view+json": {
       "model_id": "b1d93bd3f2ee4d948d555046ae772911",
       "version_major": 2,
       "version_minor": 0
      },
      "text/plain": [
       "  0%|          | 0.00/10.1G [00:00<?, ?iB/s]"
      ]
     },
     "metadata": {},
     "output_type": "display_data"
    },
    {
     "name": "stderr",
     "output_type": "stream",
     "text": [
      "WARNING:urllib3.connectionpool:Connection pool is full, discarding connection: openpi-assets.s3.us-west-1.amazonaws.com. Connection pool size: 18\n",
      "WARNING:urllib3.connectionpool:Connection pool is full, discarding connection: openpi-assets.s3.us-west-1.amazonaws.com. Connection pool size: 18\n",
      "WARNING:urllib3.connectionpool:Connection pool is full, discarding connection: openpi-assets.s3.us-west-1.amazonaws.com. Connection pool size: 18\n"
     ]
    }
   ],
   "source": [
    "config = _config.get_config(\"pi0_fast_droid\")\n",
    "checkpoint_dir = download.maybe_download(\"s3://openpi-assets/checkpoints/pi0_fast_libero\")\n",
    "\n",
    "# Create a trained policy.\n",
    "policy = _policy_config.create_trained_policy(config, checkpoint_dir)\n",
    "\n",
    "# Run inference on a dummy example. This example corresponds to observations produced by the DROID runtime.\n",
    "example = droid_policy.make_droid_example()\n",
    "result = policy.infer(example)\n",
    "\n",
    "# Delete the policy to free up memory.\n",
    "del policy\n",
    "\n",
    "print(\"Actions shape:\", result[\"actions\"].shape)"
   ]
  },
  {
   "cell_type": "markdown",
   "metadata": {},
   "source": [
    "# Working with a live model\n",
    "\n",
    "\n",
    "The following example shows how to create a live model from a checkpoint and compute training loss. First, we are going to demonstrate how to do it with fake data.\n"
   ]
  },
  {
   "cell_type": "code",
   "execution_count": 3,
   "metadata": {},
   "outputs": [
    {
     "name": "stdout",
     "output_type": "stream",
     "text": [
      "s3://openpi-assets/checkpoints/pi0_aloha_sim\n"
     ]
    },
    {
     "data": {
      "application/vnd.jupyter.widget-view+json": {
       "model_id": "56a4fca3063b4001be1cdc82cf727f7d",
       "version_major": 2,
       "version_minor": 0
      },
      "text/plain": [
       "  0%|          | 0.00/11.2G [00:00<?, ?iB/s]"
      ]
     },
     "metadata": {},
     "output_type": "display_data"
    },
    {
     "name": "stderr",
     "output_type": "stream",
     "text": [
      "WARNING:urllib3.connectionpool:Connection pool is full, discarding connection: openpi-assets.s3.us-west-1.amazonaws.com. Connection pool size: 18\n",
      "WARNING:urllib3.connectionpool:Connection pool is full, discarding connection: openpi-assets.s3.us-west-1.amazonaws.com. Connection pool size: 18\n",
      "WARNING:urllib3.connectionpool:Connection pool is full, discarding connection: openpi-assets.s3.us-west-1.amazonaws.com. Connection pool size: 18\n"
     ]
    },
    {
     "name": "stdout",
     "output_type": "stream",
     "text": [
      "Loss shape: (1, 50)\n"
     ]
    }
   ],
   "source": [
    "config = _config.get_config(\"pi0_aloha_sim\")\n",
    "\n",
    "checkpoint_dir = download.maybe_download(\"s3://openpi-assets/checkpoints/pi0_aloha_sim\")\n",
    "key = jax.random.key(0)\n",
    "\n",
    "# Create a model from the checkpoint.\n",
    "model = config.model.load(_model.restore_params(checkpoint_dir / \"params\"))\n",
    "\n",
    "# We can create fake observations and actions to test the model.\n",
    "obs, act = config.model.fake_obs(), config.model.fake_act()\n",
    "\n",
    "# Sample actions from the model.\n",
    "loss = model.compute_loss(key, obs, act)\n",
    "print(\"Loss shape:\", loss.shape)"
   ]
  },
  {
   "cell_type": "markdown",
   "metadata": {},
   "source": [
    "Now, we are going to create a data loader and use a real batch of training data to compute the loss."
   ]
  },
  {
   "cell_type": "code",
   "execution_count": 4,
   "metadata": {},
   "outputs": [
    {
     "data": {
      "application/vnd.jupyter.widget-view+json": {
       "model_id": "38b207cb0b15427785873b06542daa37",
       "version_major": 2,
       "version_minor": 0
      },
      "text/plain": [
       "Fetching 4 files:   0%|          | 0/4 [00:00<?, ?it/s]"
      ]
     },
     "metadata": {},
     "output_type": "display_data"
    },
    {
     "data": {
      "application/vnd.jupyter.widget-view+json": {
       "model_id": "7c2a23c7cae548c2b3064e6f07720daa",
       "version_major": 2,
       "version_minor": 0
      },
      "text/plain": [
       "stats.json:   0%|          | 0.00/1.66k [00:00<?, ?B/s]"
      ]
     },
     "metadata": {},
     "output_type": "display_data"
    },
    {
     "data": {
      "application/vnd.jupyter.widget-view+json": {
       "model_id": "0bc4dad0cf9a4f37a1ee3ac1038b47f2",
       "version_major": 2,
       "version_minor": 0
      },
      "text/plain": [
       "episodes.jsonl:   0%|          | 0.00/269 [00:00<?, ?B/s]"
      ]
     },
     "metadata": {},
     "output_type": "display_data"
    },
    {
     "data": {
      "application/vnd.jupyter.widget-view+json": {
       "model_id": "2fb9e74352af43b399876d3a22a4677f",
       "version_major": 2,
       "version_minor": 0
      },
      "text/plain": [
       "tasks.jsonl:   0%|          | 0.00/98.0 [00:00<?, ?B/s]"
      ]
     },
     "metadata": {},
     "output_type": "display_data"
    },
    {
     "data": {
      "application/vnd.jupyter.widget-view+json": {
       "model_id": "0239c854c0c14e778dc692eb09326bbd",
       "version_major": 2,
       "version_minor": 0
      },
      "text/plain": [
       "info.json:   0%|          | 0.00/595 [00:00<?, ?B/s]"
      ]
     },
     "metadata": {},
     "output_type": "display_data"
    },
    {
     "data": {
      "application/vnd.jupyter.widget-view+json": {
       "model_id": "8f8a531e650343e09803b30305548977",
       "version_major": 2,
       "version_minor": 0
      },
      "text/plain": [
       "Fetching 4 files:   0%|          | 0/4 [00:00<?, ?it/s]"
      ]
     },
     "metadata": {},
     "output_type": "display_data"
    },
    {
     "data": {
      "application/vnd.jupyter.widget-view+json": {
       "model_id": "dbcc3e04630e4eea9352c729b8e43a99",
       "version_major": 2,
       "version_minor": 0
      },
      "text/plain": [
       "Fetching 106 files:   0%|          | 0/106 [00:00<?, ?it/s]"
      ]
     },
     "metadata": {},
     "output_type": "display_data"
    },
    {
     "data": {
      "application/vnd.jupyter.widget-view+json": {
       "model_id": "29f16818a7f7475db1dd344827445d75",
       "version_major": 2,
       "version_minor": 0
      },
      "text/plain": [
       ".gitattributes:   0%|          | 0.00/340 [00:00<?, ?B/s]"
      ]
     },
     "metadata": {},
     "output_type": "display_data"
    },
    {
     "data": {
      "application/vnd.jupyter.widget-view+json": {
       "model_id": "0a4c2a41ebcc4f89aecc85c5a457b8f8",
       "version_major": 2,
       "version_minor": 0
      },
      "text/plain": [
       "README.md:   0%|          | 0.00/1.04k [00:00<?, ?B/s]"
      ]
     },
     "metadata": {},
     "output_type": "display_data"
    },
    {
     "data": {
      "application/vnd.jupyter.widget-view+json": {
       "model_id": "877b938692b54aed99237a8f394f168e",
       "version_major": 2,
       "version_minor": 0
      },
      "text/plain": [
       "episode_000007.parquet:   0%|          | 0.00/54.0k [00:00<?, ?B/s]"
      ]
     },
     "metadata": {},
     "output_type": "display_data"
    },
    {
     "data": {
      "application/vnd.jupyter.widget-view+json": {
       "model_id": "6a1d06116100417a8fc0e97b18f3d21d",
       "version_major": 2,
       "version_minor": 0
      },
      "text/plain": [
       "episode_000001.parquet:   0%|          | 0.00/52.7k [00:00<?, ?B/s]"
      ]
     },
     "metadata": {},
     "output_type": "display_data"
    },
    {
     "data": {
      "application/vnd.jupyter.widget-view+json": {
       "model_id": "9f192c00e70b4c9788bb986684b2d90d",
       "version_major": 2,
       "version_minor": 0
      },
      "text/plain": [
       "episode_000000.parquet:   0%|          | 0.00/52.2k [00:00<?, ?B/s]"
      ]
     },
     "metadata": {},
     "output_type": "display_data"
    },
    {
     "data": {
      "application/vnd.jupyter.widget-view+json": {
       "model_id": "8ecc0ef4b6ff469695d2a7f1ab8e8eaf",
       "version_major": 2,
       "version_minor": 0
      },
      "text/plain": [
       "episode_000006.parquet:   0%|          | 0.00/53.0k [00:00<?, ?B/s]"
      ]
     },
     "metadata": {},
     "output_type": "display_data"
    },
    {
     "data": {
      "application/vnd.jupyter.widget-view+json": {
       "model_id": "bc69cb7d262d41209ea2832bd2d52b2e",
       "version_major": 2,
       "version_minor": 0
      },
      "text/plain": [
       "episode_000009.parquet:   0%|          | 0.00/52.8k [00:00<?, ?B/s]"
      ]
     },
     "metadata": {},
     "output_type": "display_data"
    },
    {
     "data": {
      "application/vnd.jupyter.widget-view+json": {
       "model_id": "1e567aa897ca4188951a8f6362984eff",
       "version_major": 2,
       "version_minor": 0
      },
      "text/plain": [
       "episode_000008.parquet:   0%|          | 0.00/52.6k [00:00<?, ?B/s]"
      ]
     },
     "metadata": {},
     "output_type": "display_data"
    },
    {
     "data": {
      "application/vnd.jupyter.widget-view+json": {
       "model_id": "6f8bded6226048c0bd7c546f6957afad",
       "version_major": 2,
       "version_minor": 0
      },
      "text/plain": [
       "episode_000010.parquet:   0%|          | 0.00/53.0k [00:00<?, ?B/s]"
      ]
     },
     "metadata": {},
     "output_type": "display_data"
    },
    {
     "data": {
      "application/vnd.jupyter.widget-view+json": {
       "model_id": "3c36d6eee41b49f4b4496d18ca5d9c04",
       "version_major": 2,
       "version_minor": 0
      },
      "text/plain": [
       "episode_000011.parquet:   0%|          | 0.00/52.8k [00:00<?, ?B/s]"
      ]
     },
     "metadata": {},
     "output_type": "display_data"
    },
    {
     "data": {
      "application/vnd.jupyter.widget-view+json": {
       "model_id": "61dbd6e2669a40a785765a61fe20c453",
       "version_major": 2,
       "version_minor": 0
      },
      "text/plain": [
       "episode_000012.parquet:   0%|          | 0.00/54.2k [00:00<?, ?B/s]"
      ]
     },
     "metadata": {},
     "output_type": "display_data"
    },
    {
     "data": {
      "application/vnd.jupyter.widget-view+json": {
       "model_id": "a4d9597610c746e8bb7bee43c32f82cc",
       "version_major": 2,
       "version_minor": 0
      },
      "text/plain": [
       "episode_000013.parquet:   0%|          | 0.00/52.3k [00:00<?, ?B/s]"
      ]
     },
     "metadata": {},
     "output_type": "display_data"
    },
    {
     "data": {
      "application/vnd.jupyter.widget-view+json": {
       "model_id": "66394946aba6456caef4fd8b81aefc65",
       "version_major": 2,
       "version_minor": 0
      },
      "text/plain": [
       "episode_000014.parquet:   0%|          | 0.00/53.8k [00:00<?, ?B/s]"
      ]
     },
     "metadata": {},
     "output_type": "display_data"
    },
    {
     "data": {
      "application/vnd.jupyter.widget-view+json": {
       "model_id": "6d4de7f91f37468e9ce00cf2bb7224b6",
       "version_major": 2,
       "version_minor": 0
      },
      "text/plain": [
       "episode_000015.parquet:   0%|          | 0.00/52.8k [00:00<?, ?B/s]"
      ]
     },
     "metadata": {},
     "output_type": "display_data"
    },
    {
     "data": {
      "application/vnd.jupyter.widget-view+json": {
       "model_id": "8c41ca84d0544c509a1f1bb178e0ae49",
       "version_major": 2,
       "version_minor": 0
      },
      "text/plain": [
       "episode_000016.parquet:   0%|          | 0.00/52.7k [00:00<?, ?B/s]"
      ]
     },
     "metadata": {},
     "output_type": "display_data"
    },
    {
     "data": {
      "application/vnd.jupyter.widget-view+json": {
       "model_id": "e28504c2b9d548ac9a9387b060b4c81f",
       "version_major": 2,
       "version_minor": 0
      },
      "text/plain": [
       "episode_000017.parquet:   0%|          | 0.00/52.6k [00:00<?, ?B/s]"
      ]
     },
     "metadata": {},
     "output_type": "display_data"
    },
    {
     "data": {
      "application/vnd.jupyter.widget-view+json": {
       "model_id": "cb3a37f5a9a841a293df72f02038c9ee",
       "version_major": 2,
       "version_minor": 0
      },
      "text/plain": [
       "episode_000018.parquet:   0%|          | 0.00/52.8k [00:00<?, ?B/s]"
      ]
     },
     "metadata": {},
     "output_type": "display_data"
    },
    {
     "data": {
      "application/vnd.jupyter.widget-view+json": {
       "model_id": "fa244b90cb2345af8cf45202e3268192",
       "version_major": 2,
       "version_minor": 0
      },
      "text/plain": [
       "episode_000020.parquet:   0%|          | 0.00/52.4k [00:00<?, ?B/s]"
      ]
     },
     "metadata": {},
     "output_type": "display_data"
    },
    {
     "data": {
      "application/vnd.jupyter.widget-view+json": {
       "model_id": "ebcd30218e92479e8ab1862c11c3b64e",
       "version_major": 2,
       "version_minor": 0
      },
      "text/plain": [
       "episode_000021.parquet:   0%|          | 0.00/52.9k [00:00<?, ?B/s]"
      ]
     },
     "metadata": {},
     "output_type": "display_data"
    },
    {
     "data": {
      "application/vnd.jupyter.widget-view+json": {
       "model_id": "9011d9bb207f47e1a4cb06a94886a3f1",
       "version_major": 2,
       "version_minor": 0
      },
      "text/plain": [
       "episode_000019.parquet:   0%|          | 0.00/53.0k [00:00<?, ?B/s]"
      ]
     },
     "metadata": {},
     "output_type": "display_data"
    },
    {
     "data": {
      "application/vnd.jupyter.widget-view+json": {
       "model_id": "73979c9e3369427d8c9eb897575ec664",
       "version_major": 2,
       "version_minor": 0
      },
      "text/plain": [
       "episode_000022.parquet:   0%|          | 0.00/54.4k [00:00<?, ?B/s]"
      ]
     },
     "metadata": {},
     "output_type": "display_data"
    },
    {
     "data": {
      "application/vnd.jupyter.widget-view+json": {
       "model_id": "2c8f2c6eaf8048fcb5abf0d9222b3650",
       "version_major": 2,
       "version_minor": 0
      },
      "text/plain": [
       "episode_000024.parquet:   0%|          | 0.00/54.1k [00:00<?, ?B/s]"
      ]
     },
     "metadata": {},
     "output_type": "display_data"
    },
    {
     "data": {
      "application/vnd.jupyter.widget-view+json": {
       "model_id": "1877dab6e3f84e77bfe0869ddbe06678",
       "version_major": 2,
       "version_minor": 0
      },
      "text/plain": [
       "episode_000025.parquet:   0%|          | 0.00/53.8k [00:00<?, ?B/s]"
      ]
     },
     "metadata": {},
     "output_type": "display_data"
    },
    {
     "data": {
      "application/vnd.jupyter.widget-view+json": {
       "model_id": "152a8b49b33c49d1ac71fdfcd95067ee",
       "version_major": 2,
       "version_minor": 0
      },
      "text/plain": [
       "episode_000023.parquet:   0%|          | 0.00/52.8k [00:00<?, ?B/s]"
      ]
     },
     "metadata": {},
     "output_type": "display_data"
    },
    {
     "data": {
      "application/vnd.jupyter.widget-view+json": {
       "model_id": "27557eb090b641d9800f31dfad3054b0",
       "version_major": 2,
       "version_minor": 0
      },
      "text/plain": [
       "episode_000026.parquet:   0%|          | 0.00/54.1k [00:00<?, ?B/s]"
      ]
     },
     "metadata": {},
     "output_type": "display_data"
    },
    {
     "data": {
      "application/vnd.jupyter.widget-view+json": {
       "model_id": "1ae6f4e21c704c788cb65c89e15e2d8c",
       "version_major": 2,
       "version_minor": 0
      },
      "text/plain": [
       "episode_000027.parquet:   0%|          | 0.00/52.4k [00:00<?, ?B/s]"
      ]
     },
     "metadata": {},
     "output_type": "display_data"
    },
    {
     "data": {
      "application/vnd.jupyter.widget-view+json": {
       "model_id": "4c416669f4c146e788c7732ea9ce81f0",
       "version_major": 2,
       "version_minor": 0
      },
      "text/plain": [
       "episode_000029.parquet:   0%|          | 0.00/54.2k [00:00<?, ?B/s]"
      ]
     },
     "metadata": {},
     "output_type": "display_data"
    },
    {
     "data": {
      "application/vnd.jupyter.widget-view+json": {
       "model_id": "c2e077952b98452ebc65501186711814",
       "version_major": 2,
       "version_minor": 0
      },
      "text/plain": [
       "episode_000028.parquet:   0%|          | 0.00/53.4k [00:00<?, ?B/s]"
      ]
     },
     "metadata": {},
     "output_type": "display_data"
    },
    {
     "data": {
      "application/vnd.jupyter.widget-view+json": {
       "model_id": "feb0ac5ca52d4dab860394517bb8cca2",
       "version_major": 2,
       "version_minor": 0
      },
      "text/plain": [
       "episode_000030.parquet:   0%|          | 0.00/53.2k [00:00<?, ?B/s]"
      ]
     },
     "metadata": {},
     "output_type": "display_data"
    },
    {
     "data": {
      "application/vnd.jupyter.widget-view+json": {
       "model_id": "85a3becfbe2849368674500faf019002",
       "version_major": 2,
       "version_minor": 0
      },
      "text/plain": [
       "episode_000031.parquet:   0%|          | 0.00/54.1k [00:00<?, ?B/s]"
      ]
     },
     "metadata": {},
     "output_type": "display_data"
    },
    {
     "data": {
      "application/vnd.jupyter.widget-view+json": {
       "model_id": "3bf3fa9d6ea74069b1e8bf5f712dadfb",
       "version_major": 2,
       "version_minor": 0
      },
      "text/plain": [
       "episode_000032.parquet:   0%|          | 0.00/52.8k [00:00<?, ?B/s]"
      ]
     },
     "metadata": {},
     "output_type": "display_data"
    },
    {
     "data": {
      "application/vnd.jupyter.widget-view+json": {
       "model_id": "1ec7990c61de40c2b6cf050d3785e497",
       "version_major": 2,
       "version_minor": 0
      },
      "text/plain": [
       "episode_000033.parquet:   0%|          | 0.00/52.6k [00:00<?, ?B/s]"
      ]
     },
     "metadata": {},
     "output_type": "display_data"
    },
    {
     "data": {
      "application/vnd.jupyter.widget-view+json": {
       "model_id": "dd3c6559a54b4d399c87477e5961e415",
       "version_major": 2,
       "version_minor": 0
      },
      "text/plain": [
       "episode_000034.parquet:   0%|          | 0.00/53.9k [00:00<?, ?B/s]"
      ]
     },
     "metadata": {},
     "output_type": "display_data"
    },
    {
     "data": {
      "application/vnd.jupyter.widget-view+json": {
       "model_id": "4e598c95339341488aa7cd0d278b59e8",
       "version_major": 2,
       "version_minor": 0
      },
      "text/plain": [
       "episode_000035.parquet:   0%|          | 0.00/53.9k [00:00<?, ?B/s]"
      ]
     },
     "metadata": {},
     "output_type": "display_data"
    },
    {
     "data": {
      "application/vnd.jupyter.widget-view+json": {
       "model_id": "796ddd079a8a48bfb7acc1cebb8507d0",
       "version_major": 2,
       "version_minor": 0
      },
      "text/plain": [
       "episode_000036.parquet:   0%|          | 0.00/52.9k [00:00<?, ?B/s]"
      ]
     },
     "metadata": {},
     "output_type": "display_data"
    },
    {
     "data": {
      "application/vnd.jupyter.widget-view+json": {
       "model_id": "b69bd936a1384a9eb128c4ee7737b25a",
       "version_major": 2,
       "version_minor": 0
      },
      "text/plain": [
       "episode_000037.parquet:   0%|          | 0.00/52.9k [00:00<?, ?B/s]"
      ]
     },
     "metadata": {},
     "output_type": "display_data"
    },
    {
     "data": {
      "application/vnd.jupyter.widget-view+json": {
       "model_id": "5da1d6076ae04225a0d6ced297d7d508",
       "version_major": 2,
       "version_minor": 0
      },
      "text/plain": [
       "episode_000005.parquet:   0%|          | 0.00/53.7k [00:00<?, ?B/s]"
      ]
     },
     "metadata": {},
     "output_type": "display_data"
    },
    {
     "data": {
      "application/vnd.jupyter.widget-view+json": {
       "model_id": "9fa5c70ce0b14732af84252b9d2d05bf",
       "version_major": 2,
       "version_minor": 0
      },
      "text/plain": [
       "episode_000002.parquet:   0%|          | 0.00/54.6k [00:00<?, ?B/s]"
      ]
     },
     "metadata": {},
     "output_type": "display_data"
    },
    {
     "data": {
      "application/vnd.jupyter.widget-view+json": {
       "model_id": "db824c480fbd432ca80d390619ee6619",
       "version_major": 2,
       "version_minor": 0
      },
      "text/plain": [
       "episode_000038.parquet:   0%|          | 0.00/54.4k [00:00<?, ?B/s]"
      ]
     },
     "metadata": {},
     "output_type": "display_data"
    },
    {
     "data": {
      "application/vnd.jupyter.widget-view+json": {
       "model_id": "6e0a463f19d7402bba81c4d15db7635d",
       "version_major": 2,
       "version_minor": 0
      },
      "text/plain": [
       "episode_000039.parquet:   0%|          | 0.00/54.1k [00:00<?, ?B/s]"
      ]
     },
     "metadata": {},
     "output_type": "display_data"
    },
    {
     "data": {
      "application/vnd.jupyter.widget-view+json": {
       "model_id": "76c844014983499796440532e2c24bd6",
       "version_major": 2,
       "version_minor": 0
      },
      "text/plain": [
       "episode_000003.parquet:   0%|          | 0.00/53.8k [00:00<?, ?B/s]"
      ]
     },
     "metadata": {},
     "output_type": "display_data"
    },
    {
     "data": {
      "application/vnd.jupyter.widget-view+json": {
       "model_id": "8fae397887b54cceaa6b7953f019bf5a",
       "version_major": 2,
       "version_minor": 0
      },
      "text/plain": [
       "episode_000004.parquet:   0%|          | 0.00/52.5k [00:00<?, ?B/s]"
      ]
     },
     "metadata": {},
     "output_type": "display_data"
    },
    {
     "data": {
      "application/vnd.jupyter.widget-view+json": {
       "model_id": "9c942ca8cad2401cb78f7cb6174a43a9",
       "version_major": 2,
       "version_minor": 0
      },
      "text/plain": [
       "episode_000040.parquet:   0%|          | 0.00/53.4k [00:00<?, ?B/s]"
      ]
     },
     "metadata": {},
     "output_type": "display_data"
    },
    {
     "data": {
      "application/vnd.jupyter.widget-view+json": {
       "model_id": "31609051a6264bb7ab5b9647e765473a",
       "version_major": 2,
       "version_minor": 0
      },
      "text/plain": [
       "episode_000042.parquet:   0%|          | 0.00/54.0k [00:00<?, ?B/s]"
      ]
     },
     "metadata": {},
     "output_type": "display_data"
    },
    {
     "data": {
      "application/vnd.jupyter.widget-view+json": {
       "model_id": "c89fa5cb56cb432c95b6b7a8c8cb593b",
       "version_major": 2,
       "version_minor": 0
      },
      "text/plain": [
       "episode_000043.parquet:   0%|          | 0.00/53.7k [00:00<?, ?B/s]"
      ]
     },
     "metadata": {},
     "output_type": "display_data"
    },
    {
     "data": {
      "application/vnd.jupyter.widget-view+json": {
       "model_id": "b58448a07ce14c089577e653f6449e2e",
       "version_major": 2,
       "version_minor": 0
      },
      "text/plain": [
       "episode_000041.parquet:   0%|          | 0.00/52.6k [00:00<?, ?B/s]"
      ]
     },
     "metadata": {},
     "output_type": "display_data"
    },
    {
     "data": {
      "application/vnd.jupyter.widget-view+json": {
       "model_id": "0abb55733ce544669afc6d8745239903",
       "version_major": 2,
       "version_minor": 0
      },
      "text/plain": [
       "episode_000044.parquet:   0%|          | 0.00/52.2k [00:00<?, ?B/s]"
      ]
     },
     "metadata": {},
     "output_type": "display_data"
    },
    {
     "data": {
      "application/vnd.jupyter.widget-view+json": {
       "model_id": "ba7ff2b5dfe3462881c40abba26073a4",
       "version_major": 2,
       "version_minor": 0
      },
      "text/plain": [
       "episode_000045.parquet:   0%|          | 0.00/53.9k [00:00<?, ?B/s]"
      ]
     },
     "metadata": {},
     "output_type": "display_data"
    },
    {
     "data": {
      "application/vnd.jupyter.widget-view+json": {
       "model_id": "f6e62b35f10f45319ecca585641d3992",
       "version_major": 2,
       "version_minor": 0
      },
      "text/plain": [
       "episode_000046.parquet:   0%|          | 0.00/54.1k [00:00<?, ?B/s]"
      ]
     },
     "metadata": {},
     "output_type": "display_data"
    },
    {
     "data": {
      "application/vnd.jupyter.widget-view+json": {
       "model_id": "bea31cc3eb184394802f31158bb904aa",
       "version_major": 2,
       "version_minor": 0
      },
      "text/plain": [
       "episode_000048.parquet:   0%|          | 0.00/52.5k [00:00<?, ?B/s]"
      ]
     },
     "metadata": {},
     "output_type": "display_data"
    },
    {
     "data": {
      "application/vnd.jupyter.widget-view+json": {
       "model_id": "b2350827d82f4965a52dd114a6ce4782",
       "version_major": 2,
       "version_minor": 0
      },
      "text/plain": [
       "episode_000047.parquet:   0%|          | 0.00/51.7k [00:00<?, ?B/s]"
      ]
     },
     "metadata": {},
     "output_type": "display_data"
    },
    {
     "data": {
      "application/vnd.jupyter.widget-view+json": {
       "model_id": "6daa3813dc524fc7bb1cb292dd0f8938",
       "version_major": 2,
       "version_minor": 0
      },
      "text/plain": [
       "episode_000049.parquet:   0%|          | 0.00/53.5k [00:00<?, ?B/s]"
      ]
     },
     "metadata": {},
     "output_type": "display_data"
    },
    {
     "data": {
      "application/vnd.jupyter.widget-view+json": {
       "model_id": "ca43fdd2343d45b9abc8dc0cffacaa5a",
       "version_major": 2,
       "version_minor": 0
      },
      "text/plain": [
       "episode_000000.mp4:   0%|          | 0.00/1.31M [00:00<?, ?B/s]"
      ]
     },
     "metadata": {},
     "output_type": "display_data"
    },
    {
     "data": {
      "application/vnd.jupyter.widget-view+json": {
       "model_id": "87379c7183b3439da9db3dd7c23cca0a",
       "version_major": 2,
       "version_minor": 0
      },
      "text/plain": [
       "episode_000003.mp4:   0%|          | 0.00/1.39M [00:00<?, ?B/s]"
      ]
     },
     "metadata": {},
     "output_type": "display_data"
    },
    {
     "data": {
      "application/vnd.jupyter.widget-view+json": {
       "model_id": "38d377796d8a4e86a1446381469327a2",
       "version_major": 2,
       "version_minor": 0
      },
      "text/plain": [
       "episode_000002.mp4:   0%|          | 0.00/1.40M [00:00<?, ?B/s]"
      ]
     },
     "metadata": {},
     "output_type": "display_data"
    },
    {
     "data": {
      "application/vnd.jupyter.widget-view+json": {
       "model_id": "b23f8fb9171e4ab29510a63a3168bc71",
       "version_major": 2,
       "version_minor": 0
      },
      "text/plain": [
       "episode_000004.mp4:   0%|          | 0.00/1.35M [00:00<?, ?B/s]"
      ]
     },
     "metadata": {},
     "output_type": "display_data"
    },
    {
     "data": {
      "application/vnd.jupyter.widget-view+json": {
       "model_id": "48a772ae829f49aa9de540ee2f4676b7",
       "version_major": 2,
       "version_minor": 0
      },
      "text/plain": [
       "episode_000001.mp4:   0%|          | 0.00/1.34M [00:00<?, ?B/s]"
      ]
     },
     "metadata": {},
     "output_type": "display_data"
    },
    {
     "data": {
      "application/vnd.jupyter.widget-view+json": {
       "model_id": "8ee5cb4dddc14a6196f62f047ad42c5e",
       "version_major": 2,
       "version_minor": 0
      },
      "text/plain": [
       "episode_000005.mp4:   0%|          | 0.00/1.36M [00:00<?, ?B/s]"
      ]
     },
     "metadata": {},
     "output_type": "display_data"
    },
    {
     "data": {
      "application/vnd.jupyter.widget-view+json": {
       "model_id": "904526e5f4a4461ab2a908ee2259eeae",
       "version_major": 2,
       "version_minor": 0
      },
      "text/plain": [
       "episode_000006.mp4:   0%|          | 0.00/1.36M [00:00<?, ?B/s]"
      ]
     },
     "metadata": {},
     "output_type": "display_data"
    },
    {
     "data": {
      "application/vnd.jupyter.widget-view+json": {
       "model_id": "022ac24f42244f65a277b4d42cb94ede",
       "version_major": 2,
       "version_minor": 0
      },
      "text/plain": [
       "episode_000007.mp4:   0%|          | 0.00/1.38M [00:00<?, ?B/s]"
      ]
     },
     "metadata": {},
     "output_type": "display_data"
    },
    {
     "data": {
      "application/vnd.jupyter.widget-view+json": {
       "model_id": "31cd3aef5713435b9dcb3843ce332338",
       "version_major": 2,
       "version_minor": 0
      },
      "text/plain": [
       "episode_000008.mp4:   0%|          | 0.00/1.36M [00:00<?, ?B/s]"
      ]
     },
     "metadata": {},
     "output_type": "display_data"
    },
    {
     "data": {
      "application/vnd.jupyter.widget-view+json": {
       "model_id": "92d1a3ee7a8b421c95927957beecaf25",
       "version_major": 2,
       "version_minor": 0
      },
      "text/plain": [
       "episode_000010.mp4:   0%|          | 0.00/1.34M [00:00<?, ?B/s]"
      ]
     },
     "metadata": {},
     "output_type": "display_data"
    },
    {
     "data": {
      "application/vnd.jupyter.widget-view+json": {
       "model_id": "7565826fdfb2479b95303f882046343a",
       "version_major": 2,
       "version_minor": 0
      },
      "text/plain": [
       "episode_000011.mp4:   0%|          | 0.00/1.36M [00:00<?, ?B/s]"
      ]
     },
     "metadata": {},
     "output_type": "display_data"
    },
    {
     "data": {
      "application/vnd.jupyter.widget-view+json": {
       "model_id": "602d7029f16540348cd4d84985e18d94",
       "version_major": 2,
       "version_minor": 0
      },
      "text/plain": [
       "episode_000013.mp4:   0%|          | 0.00/1.35M [00:00<?, ?B/s]"
      ]
     },
     "metadata": {},
     "output_type": "display_data"
    },
    {
     "data": {
      "application/vnd.jupyter.widget-view+json": {
       "model_id": "591372dd2704445298e183dd50647851",
       "version_major": 2,
       "version_minor": 0
      },
      "text/plain": [
       "episode_000012.mp4:   0%|          | 0.00/1.40M [00:00<?, ?B/s]"
      ]
     },
     "metadata": {},
     "output_type": "display_data"
    },
    {
     "data": {
      "application/vnd.jupyter.widget-view+json": {
       "model_id": "53226ae061df48b291faac6290d3d097",
       "version_major": 2,
       "version_minor": 0
      },
      "text/plain": [
       "episode_000014.mp4:   0%|          | 0.00/1.38M [00:00<?, ?B/s]"
      ]
     },
     "metadata": {},
     "output_type": "display_data"
    },
    {
     "data": {
      "application/vnd.jupyter.widget-view+json": {
       "model_id": "a93a22804be249ee88b301e403dbd11d",
       "version_major": 2,
       "version_minor": 0
      },
      "text/plain": [
       "episode_000009.mp4:   0%|          | 0.00/1.34M [00:00<?, ?B/s]"
      ]
     },
     "metadata": {},
     "output_type": "display_data"
    },
    {
     "data": {
      "application/vnd.jupyter.widget-view+json": {
       "model_id": "ac7caa98284e4b9fb3715476a61d78e3",
       "version_major": 2,
       "version_minor": 0
      },
      "text/plain": [
       "episode_000015.mp4:   0%|          | 0.00/1.34M [00:00<?, ?B/s]"
      ]
     },
     "metadata": {},
     "output_type": "display_data"
    },
    {
     "data": {
      "application/vnd.jupyter.widget-view+json": {
       "model_id": "738272c96a584d1ab4182b6f76dfd3d1",
       "version_major": 2,
       "version_minor": 0
      },
      "text/plain": [
       "episode_000016.mp4:   0%|          | 0.00/1.32M [00:00<?, ?B/s]"
      ]
     },
     "metadata": {},
     "output_type": "display_data"
    },
    {
     "data": {
      "application/vnd.jupyter.widget-view+json": {
       "model_id": "531cf323a4104110866d260312c4377e",
       "version_major": 2,
       "version_minor": 0
      },
      "text/plain": [
       "episode_000017.mp4:   0%|          | 0.00/1.33M [00:00<?, ?B/s]"
      ]
     },
     "metadata": {},
     "output_type": "display_data"
    },
    {
     "data": {
      "application/vnd.jupyter.widget-view+json": {
       "model_id": "6f749f5430214afd9663a4d18613a4df",
       "version_major": 2,
       "version_minor": 0
      },
      "text/plain": [
       "episode_000019.mp4:   0%|          | 0.00/1.29M [00:00<?, ?B/s]"
      ]
     },
     "metadata": {},
     "output_type": "display_data"
    },
    {
     "data": {
      "application/vnd.jupyter.widget-view+json": {
       "model_id": "5036ef1111b148c6b2532bbb4b021168",
       "version_major": 2,
       "version_minor": 0
      },
      "text/plain": [
       "episode_000020.mp4:   0%|          | 0.00/1.34M [00:00<?, ?B/s]"
      ]
     },
     "metadata": {},
     "output_type": "display_data"
    },
    {
     "data": {
      "application/vnd.jupyter.widget-view+json": {
       "model_id": "bdf1eb9db5404de785e1a619ac9de92c",
       "version_major": 2,
       "version_minor": 0
      },
      "text/plain": [
       "episode_000022.mp4:   0%|          | 0.00/1.31M [00:00<?, ?B/s]"
      ]
     },
     "metadata": {},
     "output_type": "display_data"
    },
    {
     "data": {
      "application/vnd.jupyter.widget-view+json": {
       "model_id": "7aa158624955456ebf29681286b2dfd6",
       "version_major": 2,
       "version_minor": 0
      },
      "text/plain": [
       "episode_000018.mp4:   0%|          | 0.00/1.32M [00:00<?, ?B/s]"
      ]
     },
     "metadata": {},
     "output_type": "display_data"
    },
    {
     "data": {
      "application/vnd.jupyter.widget-view+json": {
       "model_id": "ec7abd09221e4e4db73b7e1bfa206664",
       "version_major": 2,
       "version_minor": 0
      },
      "text/plain": [
       "episode_000021.mp4:   0%|          | 0.00/1.35M [00:00<?, ?B/s]"
      ]
     },
     "metadata": {},
     "output_type": "display_data"
    },
    {
     "data": {
      "application/vnd.jupyter.widget-view+json": {
       "model_id": "c2298efd9528475884a452bd1c8199fa",
       "version_major": 2,
       "version_minor": 0
      },
      "text/plain": [
       "episode_000025.mp4:   0%|          | 0.00/1.38M [00:00<?, ?B/s]"
      ]
     },
     "metadata": {},
     "output_type": "display_data"
    },
    {
     "data": {
      "application/vnd.jupyter.widget-view+json": {
       "model_id": "f73023105198416b972221dd389f65ad",
       "version_major": 2,
       "version_minor": 0
      },
      "text/plain": [
       "episode_000023.mp4:   0%|          | 0.00/1.37M [00:00<?, ?B/s]"
      ]
     },
     "metadata": {},
     "output_type": "display_data"
    },
    {
     "data": {
      "application/vnd.jupyter.widget-view+json": {
       "model_id": "42dd3641997040c6a2d2e2f45cc93941",
       "version_major": 2,
       "version_minor": 0
      },
      "text/plain": [
       "episode_000026.mp4:   0%|          | 0.00/1.34M [00:00<?, ?B/s]"
      ]
     },
     "metadata": {},
     "output_type": "display_data"
    },
    {
     "data": {
      "application/vnd.jupyter.widget-view+json": {
       "model_id": "950032745aa84a76b9b9b3904498b9e2",
       "version_major": 2,
       "version_minor": 0
      },
      "text/plain": [
       "episode_000027.mp4:   0%|          | 0.00/1.30M [00:00<?, ?B/s]"
      ]
     },
     "metadata": {},
     "output_type": "display_data"
    },
    {
     "data": {
      "application/vnd.jupyter.widget-view+json": {
       "model_id": "d5e0c8eca0404334a56b395398af8f5a",
       "version_major": 2,
       "version_minor": 0
      },
      "text/plain": [
       "episode_000024.mp4:   0%|          | 0.00/1.37M [00:00<?, ?B/s]"
      ]
     },
     "metadata": {},
     "output_type": "display_data"
    },
    {
     "data": {
      "application/vnd.jupyter.widget-view+json": {
       "model_id": "a391307474164228b5fb6ea602568394",
       "version_major": 2,
       "version_minor": 0
      },
      "text/plain": [
       "episode_000028.mp4:   0%|          | 0.00/1.36M [00:00<?, ?B/s]"
      ]
     },
     "metadata": {},
     "output_type": "display_data"
    },
    {
     "data": {
      "application/vnd.jupyter.widget-view+json": {
       "model_id": "31a18efb7f894e6f8e53532d39cb8c54",
       "version_major": 2,
       "version_minor": 0
      },
      "text/plain": [
       "episode_000029.mp4:   0%|          | 0.00/1.40M [00:00<?, ?B/s]"
      ]
     },
     "metadata": {},
     "output_type": "display_data"
    },
    {
     "data": {
      "application/vnd.jupyter.widget-view+json": {
       "model_id": "637dd570c18848cf9cd41256cbf7f882",
       "version_major": 2,
       "version_minor": 0
      },
      "text/plain": [
       "episode_000030.mp4:   0%|          | 0.00/1.32M [00:00<?, ?B/s]"
      ]
     },
     "metadata": {},
     "output_type": "display_data"
    },
    {
     "data": {
      "application/vnd.jupyter.widget-view+json": {
       "model_id": "9a99f425d5e24d959dc3594bbf9adb18",
       "version_major": 2,
       "version_minor": 0
      },
      "text/plain": [
       "episode_000031.mp4:   0%|          | 0.00/1.36M [00:00<?, ?B/s]"
      ]
     },
     "metadata": {},
     "output_type": "display_data"
    },
    {
     "data": {
      "application/vnd.jupyter.widget-view+json": {
       "model_id": "677cd963761341c49d2f1e859d48d6dd",
       "version_major": 2,
       "version_minor": 0
      },
      "text/plain": [
       "episode_000033.mp4:   0%|          | 0.00/1.35M [00:00<?, ?B/s]"
      ]
     },
     "metadata": {},
     "output_type": "display_data"
    },
    {
     "data": {
      "application/vnd.jupyter.widget-view+json": {
       "model_id": "32e6940146544d59aa3d672c4f18a8fa",
       "version_major": 2,
       "version_minor": 0
      },
      "text/plain": [
       "episode_000032.mp4:   0%|          | 0.00/1.35M [00:00<?, ?B/s]"
      ]
     },
     "metadata": {},
     "output_type": "display_data"
    },
    {
     "data": {
      "application/vnd.jupyter.widget-view+json": {
       "model_id": "4c1ae62a3804422c8891170d49f6259b",
       "version_major": 2,
       "version_minor": 0
      },
      "text/plain": [
       "episode_000035.mp4:   0%|          | 0.00/1.37M [00:00<?, ?B/s]"
      ]
     },
     "metadata": {},
     "output_type": "display_data"
    },
    {
     "data": {
      "application/vnd.jupyter.widget-view+json": {
       "model_id": "01445650c6dd483cbff6bc0754124e88",
       "version_major": 2,
       "version_minor": 0
      },
      "text/plain": [
       "episode_000034.mp4:   0%|          | 0.00/1.35M [00:00<?, ?B/s]"
      ]
     },
     "metadata": {},
     "output_type": "display_data"
    },
    {
     "data": {
      "application/vnd.jupyter.widget-view+json": {
       "model_id": "eb45b8bb526c4ffb9c41512255c9d6d8",
       "version_major": 2,
       "version_minor": 0
      },
      "text/plain": [
       "episode_000036.mp4:   0%|          | 0.00/1.38M [00:00<?, ?B/s]"
      ]
     },
     "metadata": {},
     "output_type": "display_data"
    },
    {
     "data": {
      "application/vnd.jupyter.widget-view+json": {
       "model_id": "a5a84eae7fb2471093c2ac0036383a8d",
       "version_major": 2,
       "version_minor": 0
      },
      "text/plain": [
       "episode_000037.mp4:   0%|          | 0.00/1.37M [00:00<?, ?B/s]"
      ]
     },
     "metadata": {},
     "output_type": "display_data"
    },
    {
     "data": {
      "application/vnd.jupyter.widget-view+json": {
       "model_id": "bb039ff3784549ebad264cc7bfb9bfd3",
       "version_major": 2,
       "version_minor": 0
      },
      "text/plain": [
       "episode_000038.mp4:   0%|          | 0.00/1.37M [00:00<?, ?B/s]"
      ]
     },
     "metadata": {},
     "output_type": "display_data"
    },
    {
     "data": {
      "application/vnd.jupyter.widget-view+json": {
       "model_id": "9e168bba09f94730875eb74f36005ee7",
       "version_major": 2,
       "version_minor": 0
      },
      "text/plain": [
       "episode_000039.mp4:   0%|          | 0.00/1.38M [00:00<?, ?B/s]"
      ]
     },
     "metadata": {},
     "output_type": "display_data"
    },
    {
     "data": {
      "application/vnd.jupyter.widget-view+json": {
       "model_id": "a34a1573ab6f434dbe7c59d147a9d549",
       "version_major": 2,
       "version_minor": 0
      },
      "text/plain": [
       "episode_000041.mp4:   0%|          | 0.00/1.31M [00:00<?, ?B/s]"
      ]
     },
     "metadata": {},
     "output_type": "display_data"
    },
    {
     "data": {
      "application/vnd.jupyter.widget-view+json": {
       "model_id": "faf60b31ce944b4a8f79f520961b4ced",
       "version_major": 2,
       "version_minor": 0
      },
      "text/plain": [
       "episode_000042.mp4:   0%|          | 0.00/1.38M [00:00<?, ?B/s]"
      ]
     },
     "metadata": {},
     "output_type": "display_data"
    },
    {
     "data": {
      "application/vnd.jupyter.widget-view+json": {
       "model_id": "9ac9f7f7cfb349028d0ed69c1c12b98f",
       "version_major": 2,
       "version_minor": 0
      },
      "text/plain": [
       "episode_000043.mp4:   0%|          | 0.00/1.36M [00:00<?, ?B/s]"
      ]
     },
     "metadata": {},
     "output_type": "display_data"
    },
    {
     "data": {
      "application/vnd.jupyter.widget-view+json": {
       "model_id": "fb400124403d4af69594d75934aca8a2",
       "version_major": 2,
       "version_minor": 0
      },
      "text/plain": [
       "episode_000040.mp4:   0%|          | 0.00/1.32M [00:00<?, ?B/s]"
      ]
     },
     "metadata": {},
     "output_type": "display_data"
    },
    {
     "data": {
      "application/vnd.jupyter.widget-view+json": {
       "model_id": "3388a8bbafe54c96838945411021e325",
       "version_major": 2,
       "version_minor": 0
      },
      "text/plain": [
       "episode_000045.mp4:   0%|          | 0.00/1.36M [00:00<?, ?B/s]"
      ]
     },
     "metadata": {},
     "output_type": "display_data"
    },
    {
     "data": {
      "application/vnd.jupyter.widget-view+json": {
       "model_id": "76e6088e27eb479ead8865d81de6fde6",
       "version_major": 2,
       "version_minor": 0
      },
      "text/plain": [
       "episode_000046.mp4:   0%|          | 0.00/1.34M [00:00<?, ?B/s]"
      ]
     },
     "metadata": {},
     "output_type": "display_data"
    },
    {
     "data": {
      "application/vnd.jupyter.widget-view+json": {
       "model_id": "ca0a956b55a84232a87525991ef8eb26",
       "version_major": 2,
       "version_minor": 0
      },
      "text/plain": [
       "episode_000044.mp4:   0%|          | 0.00/1.33M [00:00<?, ?B/s]"
      ]
     },
     "metadata": {},
     "output_type": "display_data"
    },
    {
     "data": {
      "application/vnd.jupyter.widget-view+json": {
       "model_id": "7d55976e8c53444580f95b992520c8b7",
       "version_major": 2,
       "version_minor": 0
      },
      "text/plain": [
       "episode_000047.mp4:   0%|          | 0.00/1.33M [00:00<?, ?B/s]"
      ]
     },
     "metadata": {},
     "output_type": "display_data"
    },
    {
     "data": {
      "application/vnd.jupyter.widget-view+json": {
       "model_id": "a45a329b5d8b47e6a2101058bff1bd62",
       "version_major": 2,
       "version_minor": 0
      },
      "text/plain": [
       "episode_000048.mp4:   0%|          | 0.00/1.39M [00:00<?, ?B/s]"
      ]
     },
     "metadata": {},
     "output_type": "display_data"
    },
    {
     "data": {
      "application/vnd.jupyter.widget-view+json": {
       "model_id": "8024899e0aa8479ab5c85c849f2201ec",
       "version_major": 2,
       "version_minor": 0
      },
      "text/plain": [
       "episode_000049.mp4:   0%|          | 0.00/1.32M [00:00<?, ?B/s]"
      ]
     },
     "metadata": {},
     "output_type": "display_data"
    },
    {
     "data": {
      "application/vnd.jupyter.widget-view+json": {
       "model_id": "754a9eb0d4544d2196281f4d577f39de",
       "version_major": 2,
       "version_minor": 0
      },
      "text/plain": [
       "Resolving data files:   0%|          | 0/50 [00:00<?, ?it/s]"
      ]
     },
     "metadata": {},
     "output_type": "display_data"
    },
    {
     "data": {
      "application/vnd.jupyter.widget-view+json": {
       "model_id": "9de491b0b25142b2b0411687ed97dede",
       "version_major": 2,
       "version_minor": 0
      },
      "text/plain": [
       "Downloading data:   0%|          | 0/50 [00:00<?, ?files/s]"
      ]
     },
     "metadata": {},
     "output_type": "display_data"
    },
    {
     "data": {
      "application/vnd.jupyter.widget-view+json": {
       "model_id": "748fed83b94a4de4bd1393fe2c355cb6",
       "version_major": 2,
       "version_minor": 0
      },
      "text/plain": [
       "Generating train split: 0 examples [00:00, ? examples/s]"
      ]
     },
     "metadata": {},
     "output_type": "display_data"
    },
    {
     "name": "stdout",
     "output_type": "stream",
     "text": [
      "Loss shape: (2, 50)\n"
     ]
    }
   ],
   "source": [
    "# Reduce the batch size to reduce memory usage.\n",
    "config = dataclasses.replace(config, batch_size=2)\n",
    "\n",
    "# Load a single batch of data. This is the same data that will be used during training.\n",
    "# NOTE: In order to make this example self-contained, we are skipping the normalization step\n",
    "# since it requires the normalization statistics to be generated using `compute_norm_stats`.\n",
    "loader = _data_loader.create_data_loader(config, num_batches=1, skip_norm_stats=True)\n",
    "obs, act = next(iter(loader))\n",
    "\n",
    "# Sample actions from the model.\n",
    "loss = model.compute_loss(key, obs, act)\n",
    "\n",
    "# Delete the model to free up memory.\n",
    "del model\n",
    "\n",
    "print(\"Loss shape:\", loss.shape)"
   ]
  }
 ],
 "metadata": {
  "kernelspec": {
   "display_name": ".venv",
   "language": "python",
   "name": "python3"
  },
  "language_info": {
   "codemirror_mode": {
    "name": "ipython",
    "version": 3
   },
   "file_extension": ".py",
   "mimetype": "text/x-python",
   "name": "python",
   "nbconvert_exporter": "python",
   "pygments_lexer": "ipython3",
   "version": "3.11.10"
  }
 },
 "nbformat": 4,
 "nbformat_minor": 2
}
